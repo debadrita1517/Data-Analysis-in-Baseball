{
  "nbformat": 4,
  "nbformat_minor": 0,
  "metadata": {
    "colab": {
      "name": "BasketballAnalysis.ipynb",
      "provenance": []
    },
    "kernelspec": {
      "name": "python3",
      "display_name": "Python 3"
    }
  },
  "cells": [
    {
      "cell_type": "markdown",
      "metadata": {
        "id": "OGI5sRNEonRU"
      },
      "source": [
        "# **THE STATCAST REVOLUTION BEGINS....**"
      ]
    },
    {
      "cell_type": "code",
      "metadata": {
        "id": "TIhnvMz_i6kp"
      },
      "source": [
        "#importing the requisite libraries\r\n",
        "import pandas as pd\r\n",
        "import matplotlib.pyplot as plt\r\n",
        "import seaborn as sns\r\n",
        "%matplotlib inline"
      ],
      "execution_count": 14,
      "outputs": []
    },
    {
      "cell_type": "code",
      "metadata": {
        "id": "g3yfos82jihm"
      },
      "source": [
        "#importing the datasets\r\n",
        "judge=pd.read_csv('https://raw.githubusercontent.com/debadrita1517/Data-Analysis-in-Baseball/main/judge.csv')\r\n",
        "stanton=pd.read_csv('https://raw.githubusercontent.com/debadrita1517/Data-Analysis-in-Baseball/main/stanton.csv')"
      ],
      "execution_count": 15,
      "outputs": []
    },
    {
      "cell_type": "markdown",
      "metadata": {
        "id": "XFoKNSFsob4Z"
      },
      "source": [
        "# **Aron Judge and Giancarlo Stanton's Profilic Sluggers -**"
      ]
    },
    {
      "cell_type": "code",
      "metadata": {
        "colab": {
          "base_uri": "https://localhost:8080/"
        },
        "id": "t6rLgE0Wj8Qr",
        "outputId": "b17666c8-6796-481c-8149-de51bd049990"
      },
      "source": [
        "#displaying all columns\r\n",
        "pd.set_option('display.max_columns',None)\r\n",
        "#displaying last 5 rows of the Aron Judge dataframe\r\n",
        "print(judge.tail(5))"
      ],
      "execution_count": 4,
      "outputs": [
        {
          "output_type": "stream",
          "text": [
            "     pitch_type   game_date  release_speed  release_pos_x  release_pos_z  \\\n",
            "3431         CH  2016-08-13           85.6        -1.9659         5.9113   \n",
            "3432         CH  2016-08-13           87.6        -1.9318         5.9349   \n",
            "3433         CH  2016-08-13           87.2        -2.0285         5.8656   \n",
            "3434         CU  2016-08-13           79.7        -1.7108         6.1926   \n",
            "3435         FF  2016-08-13           93.2        -1.8476         6.0063   \n",
            "\n",
            "      player_name  batter  pitcher    events          description  spin_dir  \\\n",
            "3431  Aaron Judge  592450   542882       NaN                 ball       NaN   \n",
            "3432  Aaron Judge  592450   542882  home_run  hit_into_play_score       NaN   \n",
            "3433  Aaron Judge  592450   542882       NaN                 ball       NaN   \n",
            "3434  Aaron Judge  592450   542882       NaN                 foul       NaN   \n",
            "3435  Aaron Judge  592450   542882       NaN        called_strike       NaN   \n",
            "\n",
            "      spin_rate_deprecated  break_angle_deprecated  break_length_deprecated  \\\n",
            "3431                   NaN                     NaN                      NaN   \n",
            "3432                   NaN                     NaN                      NaN   \n",
            "3433                   NaN                     NaN                      NaN   \n",
            "3434                   NaN                     NaN                      NaN   \n",
            "3435                   NaN                     NaN                      NaN   \n",
            "\n",
            "      zone                                                des game_type stand  \\\n",
            "3431  14.0                                                NaN         R     R   \n",
            "3432   4.0  Aaron Judge homers (1) on a fly ball to center...         R     R   \n",
            "3433  14.0                                                NaN         R     R   \n",
            "3434   4.0                                                NaN         R     R   \n",
            "3435   8.0                                                NaN         R     R   \n",
            "\n",
            "     p_throws home_team away_team type  hit_location   bb_type  balls  \\\n",
            "3431        R       NYY        TB    B           NaN       NaN      0   \n",
            "3432        R       NYY        TB    X           NaN  fly_ball      1   \n",
            "3433        R       NYY        TB    B           NaN       NaN      0   \n",
            "3434        R       NYY        TB    S           NaN       NaN      0   \n",
            "3435        R       NYY        TB    S           NaN       NaN      0   \n",
            "\n",
            "      strikes  game_year     pfx_x     pfx_z  plate_x  plate_z  on_3b  on_2b  \\\n",
            "3431        0       2016 -0.379108  0.370567    0.739    1.442    NaN    NaN   \n",
            "3432        2       2016 -0.295608  0.320400   -0.419    3.273    NaN    NaN   \n",
            "3433        2       2016 -0.668575  0.198567    0.561    0.960    NaN    NaN   \n",
            "3434        1       2016  0.397442 -0.614133   -0.803    2.742    NaN    NaN   \n",
            "3435        0       2016 -0.823050  1.623300   -0.273    2.471    NaN    NaN   \n",
            "\n",
            "      on_1b  outs_when_up  inning inning_topbot    hc_x   hc_y  \\\n",
            "3431    NaN             0       5           Bot     NaN    NaN   \n",
            "3432    NaN             2       2           Bot  130.45  14.58   \n",
            "3433    NaN             2       2           Bot     NaN    NaN   \n",
            "3434    NaN             2       2           Bot     NaN    NaN   \n",
            "3435    NaN             2       2           Bot     NaN    NaN   \n",
            "\n",
            "      tfs_deprecated  tfs_zulu_deprecated  pos2_person_id  umpire  \\\n",
            "3431             NaN                  NaN        571912.0     NaN   \n",
            "3432             NaN                  NaN        571912.0     NaN   \n",
            "3433             NaN                  NaN        571912.0     NaN   \n",
            "3434             NaN                  NaN        571912.0     NaN   \n",
            "3435             NaN                  NaN        571912.0     NaN   \n",
            "\n",
            "              sv_id    vx0      vy0    vz0     ax      ay      az  sz_top  \\\n",
            "3431  160813_144259  6.960 -124.371 -4.756 -2.821  23.634 -30.220    3.93   \n",
            "3432  160813_135833  4.287 -127.452 -0.882 -1.972  24.694 -30.705    4.01   \n",
            "3433  160813_135815  7.491 -126.665 -5.862 -6.393  21.952 -32.121    4.01   \n",
            "3434  160813_135752  1.254 -116.062  0.439  5.184  21.328 -39.866    4.01   \n",
            "3435  160813_135736  5.994 -135.497 -6.736 -9.360  26.782 -13.446    4.01   \n",
            "\n",
            "      sz_bot  hit_distance_sc  launch_speed  launch_angle  effective_speed  \\\n",
            "3431    1.82              NaN           NaN           NaN           84.459   \n",
            "3432    1.82            446.0         108.8        27.410           86.412   \n",
            "3433    1.82              NaN           NaN           NaN           86.368   \n",
            "3434    1.82              9.0          55.8       -24.973           77.723   \n",
            "3435    1.82              NaN           NaN           NaN           92.696   \n",
            "\n",
            "      release_spin_rate  release_extension  game_pk  pos1_person_id  \\\n",
            "3431             1552.0              5.683   448611        542882.0   \n",
            "3432             1947.0              5.691   448611        542882.0   \n",
            "3433             1761.0              5.721   448611        542882.0   \n",
            "3434             2640.0              5.022   448611        542882.0   \n",
            "3435             2271.0              6.068   448611        542882.0   \n",
            "\n",
            "      pos2_person_id.1  pos3_person_id  pos4_person_id  pos5_person_id  \\\n",
            "3431          571912.0        543543.0        523253.0        446334.0   \n",
            "3432          571912.0        543543.0        523253.0        446334.0   \n",
            "3433          571912.0        543543.0        523253.0        446334.0   \n",
            "3434          571912.0        543543.0        523253.0        446334.0   \n",
            "3435          571912.0        543543.0        523253.0        446334.0   \n",
            "\n",
            "      pos6_person_id  pos7_person_id  pos8_person_id  pos9_person_id  \\\n",
            "3431        622110.0        545338.0        595281.0        543484.0   \n",
            "3432        622110.0        545338.0        595281.0        543484.0   \n",
            "3433        622110.0        545338.0        595281.0        543484.0   \n",
            "3434        622110.0        545338.0        595281.0        543484.0   \n",
            "3435        622110.0        545338.0        595281.0        543484.0   \n",
            "\n",
            "      release_pos_y  estimated_ba_using_speedangle  \\\n",
            "3431        54.8144                           0.00   \n",
            "3432        54.8064                           0.98   \n",
            "3433        54.7770                           0.00   \n",
            "3434        55.4756                           0.00   \n",
            "3435        54.4299                           0.00   \n",
            "\n",
            "      estimated_woba_using_speedangle  woba_value  woba_denom  babip_value  \\\n",
            "3431                            0.000         NaN         NaN          NaN   \n",
            "3432                            1.937         2.0         1.0          0.0   \n",
            "3433                            0.000         NaN         NaN          NaN   \n",
            "3434                            0.000         NaN         NaN          NaN   \n",
            "3435                            0.000         NaN         NaN          NaN   \n",
            "\n",
            "      iso_value  launch_speed_angle  at_bat_number  pitch_number  \n",
            "3431        NaN                 NaN             36             1  \n",
            "3432        3.0                 6.0             14             4  \n",
            "3433        NaN                 NaN             14             3  \n",
            "3434        NaN                 1.0             14             2  \n",
            "3435        NaN                 NaN             14             1  \n"
          ],
          "name": "stdout"
        }
      ]
    },
    {
      "cell_type": "code",
      "metadata": {
        "colab": {
          "base_uri": "https://localhost:8080/"
        },
        "id": "KhcECpxrkVMr",
        "outputId": "9af2b6bb-22c6-4921-971e-6d19c2f7a1eb"
      },
      "source": [
        "#displaying all of Aron Judge's batted ball events in 2017\r\n",
        "judge_events_2017=judge.loc[judge['game_year']==2017].events\r\n",
        "print(\"\\nAron Judge's batted ball event totals, 2017 :\")\r\n",
        "print(judge_events_2017.value_counts())\r\n",
        "#displaying all of Giancarlo Stanton's batted ball events in 2017\r\n",
        "stanton_events_2017=stanton.loc[stanton['game_year']==2017].events\r\n",
        "print(\"\\Giancarlo Stanton's batted ball event totals, 2017 :\")\r\n",
        "print(stanton_events_2017.value_counts())"
      ],
      "execution_count": 6,
      "outputs": [
        {
          "output_type": "stream",
          "text": [
            "\n",
            "Aron Judge's batted ball event totals, 2017 :\n",
            "strikeout                    207\n",
            "field_out                    146\n",
            "walk                         116\n",
            "single                        75\n",
            "home_run                      52\n",
            "double                        24\n",
            "grounded_into_double_play     15\n",
            "force_out                     11\n",
            "intent_walk                   11\n",
            "hit_by_pitch                   5\n",
            "fielders_choice_out            4\n",
            "sac_fly                        4\n",
            "field_error                    4\n",
            "triple                         3\n",
            "strikeout_double_play          1\n",
            "Name: events, dtype: int64\n",
            "\\Giancarlo Stanton's batted ball event totals, 2017 :\n",
            "field_out                    239\n",
            "strikeout                    161\n",
            "single                        77\n",
            "walk                          72\n",
            "home_run                      59\n",
            "double                        32\n",
            "intent_walk                   13\n",
            "grounded_into_double_play     13\n",
            "hit_by_pitch                   7\n",
            "force_out                      7\n",
            "field_error                    5\n",
            "sac_fly                        3\n",
            "fielders_choice_out            2\n",
            "strikeout_double_play          2\n",
            "pickoff_1b                     1\n",
            "Name: events, dtype: int64\n"
          ],
          "name": "stdout"
        }
      ]
    },
    {
      "cell_type": "markdown",
      "metadata": {
        "id": "hb-PNhuuoTr-"
      },
      "source": [
        "# **Analysing Home Runs with Statcast Data -**"
      ]
    },
    {
      "cell_type": "code",
      "metadata": {
        "colab": {
          "base_uri": "https://localhost:8080/",
          "height": 776
        },
        "id": "nanB9qEelltR",
        "outputId": "b4a4ca27-42c0-487c-a140-ed2d4801a2a8"
      },
      "source": [
        "# Filtering to include home runs only\r\n",
        "judge_hr = judge[judge['events']=='home_run']\r\n",
        "stanton_hr = stanton[stanton['events']=='home_run']\r\n",
        "# Creating a figure with two scatter plots of launch speed vs. launch angle, one for each player's home runs\r\n",
        "fig1, axs1 = plt.subplots(ncols=2, sharex=True, sharey=True)\r\n",
        "sns.regplot(x='launch_angle', y='launch_speed', fit_reg=False, color='tab:blue', data=judge_hr, ax=axs1[0]).set_title('Aaron Judge\\nHome Runs, 2015-2017')\r\n",
        "sns.regplot(x='launch_angle', y='launch_speed', fit_reg=False, color='tab:blue', data=stanton_hr, ax=axs1[1]).set_title('Giancarlo Stanton\\nHome Runs, 2015-2017')\r\n",
        "# Creating a figure with two KDE plots of launch speed vs. launch angle, one for each player's home runs\r\n",
        "fig2, axs2 = plt.subplots(ncols=2, sharex=True, sharey=True)\r\n",
        "sns.kdeplot(judge_hr.launch_angle, judge_hr.launch_speed, cmap=\"Blues\", shade=True, shade_lowest=False, ax=axs2[0]).set_title('Aaron Judge\\nHome Runs, 2015-2017')\r\n",
        "sns.kdeplot(stanton_hr.launch_angle, stanton_hr.launch_speed, cmap=\"Blues\", shade=True, shade_lowest=False, ax=axs2[1]).set_title('Giancarlo Stanton\\nHome Runs, 2015-2017')"
      ],
      "execution_count": 7,
      "outputs": [
        {
          "output_type": "stream",
          "text": [
            "/usr/local/lib/python3.6/dist-packages/seaborn/_decorators.py:43: FutureWarning: Pass the following variable as a keyword arg: y. From version 0.12, the only valid positional argument will be `data`, and passing other arguments without an explicit keyword will result in an error or misinterpretation.\n",
            "  FutureWarning\n",
            "/usr/local/lib/python3.6/dist-packages/seaborn/distributions.py:1678: UserWarning: `shade_lowest` is now deprecated in favor of `thresh`. Setting `thresh=0.05`, but please update your code.\n",
            "  warnings.warn(msg, UserWarning)\n",
            "/usr/local/lib/python3.6/dist-packages/seaborn/_decorators.py:43: FutureWarning: Pass the following variable as a keyword arg: y. From version 0.12, the only valid positional argument will be `data`, and passing other arguments without an explicit keyword will result in an error or misinterpretation.\n",
            "  FutureWarning\n",
            "/usr/local/lib/python3.6/dist-packages/seaborn/distributions.py:1678: UserWarning: `shade_lowest` is now deprecated in favor of `thresh`. Setting `thresh=0.05`, but please update your code.\n",
            "  warnings.warn(msg, UserWarning)\n"
          ],
          "name": "stderr"
        },
        {
          "output_type": "execute_result",
          "data": {
            "text/plain": [
              "Text(0.5, 1.0, 'Giancarlo Stanton\\nHome Runs, 2015-2017')"
            ]
          },
          "metadata": {
            "tags": []
          },
          "execution_count": 7
        },
        {
          "output_type": "display_data",
          "data": {
            "image/png": "[encoded data removed]",
            "text/plain": [
              "<Figure size 432x288 with 2 Axes>"
            ]
          },
          "metadata": {
            "tags": [],
            "needs_background": "light"
          }
        },
        {
          "output_type": "display_data",
          "data": {
            "image/png": "[encoded data removed]",
            "text/plain": [
              "<Figure size 432x288 with 2 Axes>"
            ]
          },
          "metadata": {
            "tags": [],
            "needs_background": "light"
          }
        }
      ]
    },
    {
      "cell_type": "markdown",
      "metadata": {
        "id": "OvHxIUVkoKvC"
      },
      "source": [
        "# **Home Runs by Pitch Velocity -**"
      ]
    },
    {
      "cell_type": "code",
      "metadata": {
        "colab": {
          "base_uri": "https://localhost:8080/",
          "height": 313
        },
        "id": "45nF5CEtmJ79",
        "outputId": "ced523a0-617a-49d7-d228-e414ba5eab6a"
      },
      "source": [
        "# Combining the Judge and Stanton home run DataFrames for easy boxplot plotting\r\n",
        "judge_stanton_hr = pd.concat([judge_hr, stanton_hr])\r\n",
        "# Creating a boxplot that describes the pitch velocity of each player's home runs\r\n",
        "sns.boxplot(x='player_name',y='release_speed', color='tab:blue', data=judge_stanton_hr).set_title('Home Runs, 2015-2017')"
      ],
      "execution_count": 8,
      "outputs": [
        {
          "output_type": "execute_result",
          "data": {
            "text/plain": [
              "Text(0.5, 1.0, 'Home Runs, 2015-2017')"
            ]
          },
          "metadata": {
            "tags": []
          },
          "execution_count": 8
        },
        {
          "output_type": "display_data",
          "data": {
            "image/png": "[encoded data removed]",
            "text/plain": [
              "<Figure size 432x288 with 1 Axes>"
            ]
          },
          "metadata": {
            "tags": [],
            "needs_background": "light"
          }
        }
      ]
    },
    {
      "cell_type": "markdown",
      "metadata": {
        "id": "7V5hEiGVn-iI"
      },
      "source": [
        "# **Home Runs by Pitch Location-I :**"
      ]
    },
    {
      "cell_type": "code",
      "metadata": {
        "id": "eOA2WYvLmVRZ"
      },
      "source": [
        "def assign_x_coord(row):\r\n",
        "    # Left third of strike zone\r\n",
        "    if row.zone in [1, 4, 7]:\r\n",
        "        return 1\r\n",
        "    # Middle third of strike zone\r\n",
        "    if row.zone in [2, 5, 8]:\r\n",
        "        return 2\r\n",
        "    # Right third of strike zone\r\n",
        "    if row.zone in [3, 6, 9]:\r\n",
        "        return 3"
      ],
      "execution_count": 9,
      "outputs": []
    },
    {
      "cell_type": "markdown",
      "metadata": {
        "id": "kIaOStXWnxmH"
      },
      "source": [
        "# **Home Runs by Pitch Location-II :**"
      ]
    },
    {
      "cell_type": "code",
      "metadata": {
        "id": "4Ng7YD2AmmRc"
      },
      "source": [
        "def assign_y_coord(row):\r\n",
        "    # Upper third of strike zone\r\n",
        "    if row.zone in [1, 2, 3]:\r\n",
        "        return 3\r\n",
        "    # Middle third of strike zone\r\n",
        "    if row.zone in [4, 5, 6]:\r\n",
        "        return 2\r\n",
        "    # Lower third of strike zone\r\n",
        "    if row.zone in [7, 8, 9]:\r\n",
        "        return 1"
      ],
      "execution_count": 10,
      "outputs": []
    },
    {
      "cell_type": "markdown",
      "metadata": {
        "id": "BtWEoGgXnmdF"
      },
      "source": [
        "# **Aaron Judge's Home Run Zone -**"
      ]
    },
    {
      "cell_type": "code",
      "metadata": {
        "colab": {
          "base_uri": "https://localhost:8080/",
          "height": 285
        },
        "id": "kPT7t4wwmwnR",
        "outputId": "eff61d67-bf78-4bee-a55a-7651f1be1ab1"
      },
      "source": [
        "# Zones 11, 12, 13, and 14 have been ignored for plotting simplicity\r\n",
        "judge_strike_hr = judge_hr.copy().loc[judge_hr.zone <= 9]\r\n",
        "# Assigning Cartesian coordinates to pitches in the strike zone for Judge home runs\r\n",
        "judge_strike_hr['zone_x'] = judge_strike_hr.apply(assign_x_coord, axis=1)\r\n",
        "judge_strike_hr['zone_y'] = judge_strike_hr.apply(assign_y_coord, axis=1)\r\n",
        "# Plotting Judge's home run zone as a 2D histogram with a colorbar\r\n",
        "plt.hist2d(judge_strike_hr['zone_x'], judge_strike_hr['zone_y'], bins = 3, cmap='Blues')\r\n",
        "plt.title('Aaron Judge Home Runs on\\n Pitches in the Strike Zone, 2015-2017')\r\n",
        "plt.gca().get_xaxis().set_visible(False)\r\n",
        "plt.gca().get_yaxis().set_visible(False)\r\n",
        "cb = plt.colorbar()\r\n",
        "cb.set_label('Counts in Bin')"
      ],
      "execution_count": 11,
      "outputs": [
        {
          "output_type": "display_data",
          "data": {
            "image/png": "[encoded data removed]",
            "text/plain": [
              "<Figure size 432x288 with 2 Axes>"
            ]
          },
          "metadata": {
            "tags": [],
            "needs_background": "light"
          }
        }
      ]
    },
    {
      "cell_type": "markdown",
      "metadata": {
        "id": "zs5QjN_Dne3s"
      },
      "source": [
        "# **Giancarlo Stanton's Home Run Zone -**"
      ]
    },
    {
      "cell_type": "code",
      "metadata": {
        "colab": {
          "base_uri": "https://localhost:8080/",
          "height": 283
        },
        "id": "UPbdfSQLm-Mp",
        "outputId": "1991afae-8ec1-4a47-925f-4b538f381b5f"
      },
      "source": [
        "# Zones 11, 12, 13, and 14 have been ignored for plotting simplicity\r\n",
        "stanton_strike_hr = stanton_hr.copy().loc[stanton_hr.zone <= 9]\r\n",
        "# Assigning Cartesian coordinates to pitches in the strike zone for Stanton home runs\r\n",
        "stanton_strike_hr['zone_x'] = stanton_strike_hr.apply(assign_x_coord, axis=1)\r\n",
        "stanton_strike_hr['zone_y'] = stanton_strike_hr.apply(assign_y_coord, axis=1)\r\n",
        "# Plotting Stanton's home run zone as a 2D histogram with a colorbar\r\n",
        "plt.hist2d(stanton_strike_hr['zone_x'], stanton_strike_hr['zone_y'], bins = 3, cmap='Blues')\r\n",
        "plt.title('Giancarlo Stanton Home Runs on\\n Pitches in the Strike Zone, 2015-2017')\r\n",
        "plt.gca().get_xaxis().set_visible(False)\r\n",
        "plt.gca().get_yaxis().set_visible(False)\r\n",
        "cb = plt.colorbar()\r\n",
        "cb.set_label('Counts in Bin')"
      ],
      "execution_count": 12,
      "outputs": [
        {
          "output_type": "display_data",
          "data": {
            "image/png": "[encoded data removed]",
            "text/plain": [
              "<Figure size 432x288 with 2 Axes>"
            ]
          },
          "metadata": {
            "tags": [],
            "needs_background": "light"
          }
        }
      ]
    },
    {
      "cell_type": "markdown",
      "metadata": {
        "id": "TYJ6yeyenWwB"
      },
      "source": [
        "# **Should opposing pichers be scared ?**"
      ]
    },
    {
      "cell_type": "code",
      "metadata": {
        "id": "3RyIHXVpnPST"
      },
      "source": [
        "# Should opposing pitchers be wary of Aaron Judge and Giancarlo Stanton\r\n",
        "should_pitchers_be_scared = True"
      ],
      "execution_count": 13,
      "outputs": []
    }
  ]
}